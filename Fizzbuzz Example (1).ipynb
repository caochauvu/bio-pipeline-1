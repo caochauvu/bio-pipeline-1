{
 "metadata": {
  "name": "Fizzbuzz Example"
 },
 "nbformat": 3,
 "nbformat_minor": 0,
 "worksheets": [
  {
   "cells": [
    {
     "cell_type": "code",
     "collapsed": false,
     "input": "def factorial(n):\n    for i in range(1, n + 1):\n        if (i%3 == 0 and i%5 == 0):\n            print \"Fizzbuzz\"\n        elif (i%3) == 0:\n            print \"Fizz\"\n        elif (i%5) == 0:\n            print \"Buzz\"\n        else: \n            print i\n\nprint factorial(30)",
     "language": "python",
     "metadata": {},
     "outputs": [
      {
       "output_type": "stream",
       "stream": "stdout",
       "text": "1\n2\nFizz\n4\nBuzz\nFizz\n7\n8\nFizz\nBuzz\n11\nFizz\n13\n14\nFizzbuzz\n16\n17\nFizz\n19\nBuzz\nFizz\n22\n23\nFizz\nBuzz\n26\nFizz\n28\n29\nFizzbuzz\nNone\n"
      }
     ],
     "prompt_number": 1
    },
    {
     "cell_type": "code",
     "collapsed": false,
     "input": "",
     "language": "python",
     "metadata": {},
     "outputs": []
    }
   ],
   "metadata": {}
  }
 ]
}